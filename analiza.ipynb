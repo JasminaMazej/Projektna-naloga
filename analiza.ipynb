{
 "cells": [
  {
   "cell_type": "markdown",
   "id": "8a81e5bb",
   "metadata": {},
   "source": [
    "# Analiza podatkov\n",
    "\n",
    "Podatki so bili vzeti s strani [https://www.famousbirthdays.com/](https://www.famousbirthdays.com/).\n",
    "\n",
    "Najprej naložimo potrebne podatke in knjižice."
   ]
  },
  {
   "cell_type": "code",
   "execution_count": 62,
   "id": "43c033de-caa5-460b-8bef-45f25a7a7a15",
   "metadata": {},
   "outputs": [],
   "source": [
    "import pandas as pd\n",
    "pd.set_option('display.max_rows', 15)\n",
    "%matplotlib inline\n",
    "\n",
    "LJUDJE = pd.read_csv('tabela_podatki.csv')"
   ]
  },
  {
   "cell_type": "markdown",
   "id": "f28b1028",
   "metadata": {},
   "source": [
    "Poglejmo si podatke."
   ]
  },
  {
   "cell_type": "code",
   "execution_count": 63,
   "id": "03de394d",
   "metadata": {},
   "outputs": [
    {
     "data": {
      "text/html": [
       "<div>\n",
       "<style scoped>\n",
       "    .dataframe tbody tr th:only-of-type {\n",
       "        vertical-align: middle;\n",
       "    }\n",
       "\n",
       "    .dataframe tbody tr th {\n",
       "        vertical-align: top;\n",
       "    }\n",
       "\n",
       "    .dataframe thead th {\n",
       "        text-align: right;\n",
       "    }\n",
       "</style>\n",
       "<table border=\"1\" class=\"dataframe\">\n",
       "  <thead>\n",
       "    <tr style=\"text-align: right;\">\n",
       "      <th></th>\n",
       "      <th>Ime</th>\n",
       "      <th>Starost</th>\n",
       "      <th>Poklic</th>\n",
       "      <th>Rojstni dan</th>\n",
       "      <th>Horoskop</th>\n",
       "    </tr>\n",
       "  </thead>\n",
       "  <tbody>\n",
       "    <tr>\n",
       "      <th>0</th>\n",
       "      <td>Logan Paul</td>\n",
       "      <td>29</td>\n",
       "      <td>YouTube Star</td>\n",
       "      <td>01-04</td>\n",
       "      <td>Oven</td>\n",
       "    </tr>\n",
       "    <tr>\n",
       "      <th>1</th>\n",
       "      <td>Randy Orton</td>\n",
       "      <td>44</td>\n",
       "      <td>Wrestler</td>\n",
       "      <td>01-04</td>\n",
       "      <td>Oven</td>\n",
       "    </tr>\n",
       "    <tr>\n",
       "      <th>2</th>\n",
       "      <td>Scotty Sire</td>\n",
       "      <td>32</td>\n",
       "      <td>YouTube Star</td>\n",
       "      <td>01-04</td>\n",
       "      <td>Oven</td>\n",
       "    </tr>\n",
       "    <tr>\n",
       "      <th>3</th>\n",
       "      <td>Asa Butterfield</td>\n",
       "      <td>27</td>\n",
       "      <td>Movie Actor</td>\n",
       "      <td>01-04</td>\n",
       "      <td>Oven</td>\n",
       "    </tr>\n",
       "    <tr>\n",
       "      <th>4</th>\n",
       "      <td>Jslutty</td>\n",
       "      <td>23</td>\n",
       "      <td>Instagram Star</td>\n",
       "      <td>01-04</td>\n",
       "      <td>Oven</td>\n",
       "    </tr>\n",
       "    <tr>\n",
       "      <th>...</th>\n",
       "      <td>...</td>\n",
       "      <td>...</td>\n",
       "      <td>...</td>\n",
       "      <td>...</td>\n",
       "      <td>...</td>\n",
       "    </tr>\n",
       "    <tr>\n",
       "      <th>16783</th>\n",
       "      <td>Mar Lucas Vilar</td>\n",
       "      <td>21</td>\n",
       "      <td>Instagram Star</td>\n",
       "      <td>09-09</td>\n",
       "      <td>Devica</td>\n",
       "    </tr>\n",
       "    <tr>\n",
       "      <th>16784</th>\n",
       "      <td>Estelle Ogilvy</td>\n",
       "      <td>21</td>\n",
       "      <td>Instagram Star</td>\n",
       "      <td>09-09</td>\n",
       "      <td>Devica</td>\n",
       "    </tr>\n",
       "    <tr>\n",
       "      <th>16785</th>\n",
       "      <td>Taina Licciardo-Toivola</td>\n",
       "      <td>46</td>\n",
       "      <td>YouTube Star</td>\n",
       "      <td>09-09</td>\n",
       "      <td>Devica</td>\n",
       "    </tr>\n",
       "    <tr>\n",
       "      <th>16786</th>\n",
       "      <td>Alex Nino</td>\n",
       "      <td>26</td>\n",
       "      <td>TikTok Star</td>\n",
       "      <td>09-09</td>\n",
       "      <td>Devica</td>\n",
       "    </tr>\n",
       "    <tr>\n",
       "      <th>16787</th>\n",
       "      <td>rachie.love</td>\n",
       "      <td>20</td>\n",
       "      <td>TikTok Star</td>\n",
       "      <td>09-09</td>\n",
       "      <td>Devica</td>\n",
       "    </tr>\n",
       "  </tbody>\n",
       "</table>\n",
       "<p>16788 rows × 5 columns</p>\n",
       "</div>"
      ],
      "text/plain": [
       "                           Ime Starost          Poklic Rojstni dan Horoskop\n",
       "0                   Logan Paul      29    YouTube Star       01-04     Oven\n",
       "1                  Randy Orton      44        Wrestler       01-04     Oven\n",
       "2                  Scotty Sire      32    YouTube Star       01-04     Oven\n",
       "3              Asa Butterfield      27     Movie Actor       01-04     Oven\n",
       "4                      Jslutty      23  Instagram Star       01-04     Oven\n",
       "...                        ...     ...             ...         ...      ...\n",
       "16783          Mar Lucas Vilar      21  Instagram Star       09-09   Devica\n",
       "16784           Estelle Ogilvy      21  Instagram Star       09-09   Devica\n",
       "16785  Taina Licciardo-Toivola      46    YouTube Star       09-09   Devica\n",
       "16786                Alex Nino      26     TikTok Star       09-09   Devica\n",
       "16787              rachie.love      20     TikTok Star       09-09   Devica\n",
       "\n",
       "[16788 rows x 5 columns]"
      ]
     },
     "execution_count": 63,
     "metadata": {},
     "output_type": "execute_result"
    }
   ],
   "source": [
    "LJUDJE"
   ]
  },
  {
   "cell_type": "markdown",
   "id": "4245b033",
   "metadata": {},
   "source": [
    "Podatke uredimo po abecednem vrstnem redu."
   ]
  },
  {
   "cell_type": "code",
   "execution_count": 64,
   "id": "74e114f8",
   "metadata": {},
   "outputs": [
    {
     "data": {
      "text/html": [
       "<div>\n",
       "<style scoped>\n",
       "    .dataframe tbody tr th:only-of-type {\n",
       "        vertical-align: middle;\n",
       "    }\n",
       "\n",
       "    .dataframe tbody tr th {\n",
       "        vertical-align: top;\n",
       "    }\n",
       "\n",
       "    .dataframe thead th {\n",
       "        text-align: right;\n",
       "    }\n",
       "</style>\n",
       "<table border=\"1\" class=\"dataframe\">\n",
       "  <thead>\n",
       "    <tr style=\"text-align: right;\">\n",
       "      <th></th>\n",
       "      <th>Ime</th>\n",
       "      <th>Starost</th>\n",
       "      <th>Poklic</th>\n",
       "      <th>Rojstni dan</th>\n",
       "      <th>Horoskop</th>\n",
       "    </tr>\n",
       "  </thead>\n",
       "  <tbody>\n",
       "    <tr>\n",
       "      <th>3138</th>\n",
       "      <td>$not</td>\n",
       "      <td>26</td>\n",
       "      <td>Rapper</td>\n",
       "      <td>16-12</td>\n",
       "      <td>Strelec</td>\n",
       "    </tr>\n",
       "    <tr>\n",
       "      <th>7807</th>\n",
       "      <td>03 Greedo</td>\n",
       "      <td>37</td>\n",
       "      <td>Rapper</td>\n",
       "      <td>26-07</td>\n",
       "      <td>Lev</td>\n",
       "    </tr>\n",
       "    <tr>\n",
       "      <th>8578</th>\n",
       "      <td>070 Shake</td>\n",
       "      <td>27</td>\n",
       "      <td>Rapper</td>\n",
       "      <td>13-06</td>\n",
       "      <td>Dvojčka</td>\n",
       "    </tr>\n",
       "    <tr>\n",
       "      <th>6267</th>\n",
       "      <td>09sharkboy</td>\n",
       "      <td>24</td>\n",
       "      <td>YouTube Star</td>\n",
       "      <td>24-01</td>\n",
       "      <td>Vodnar</td>\n",
       "    </tr>\n",
       "    <tr>\n",
       "      <th>727</th>\n",
       "      <td>0zuottag</td>\n",
       "      <td>26</td>\n",
       "      <td>Instagram Star</td>\n",
       "      <td>23-04</td>\n",
       "      <td>Bik</td>\n",
       "    </tr>\n",
       "    <tr>\n",
       "      <th>...</th>\n",
       "      <td>...</td>\n",
       "      <td>...</td>\n",
       "      <td>...</td>\n",
       "      <td>...</td>\n",
       "      <td>...</td>\n",
       "    </tr>\n",
       "    <tr>\n",
       "      <th>15320</th>\n",
       "      <td>Ángela Aguilar</td>\n",
       "      <td>20</td>\n",
       "      <td>World Music Singer</td>\n",
       "      <td>08-10</td>\n",
       "      <td>Tehtnica</td>\n",
       "    </tr>\n",
       "    <tr>\n",
       "      <th>14295</th>\n",
       "      <td>Ñengo Flow</td>\n",
       "      <td>42</td>\n",
       "      <td>Reggaeton Singer</td>\n",
       "      <td>15-10</td>\n",
       "      <td>Tehtnica</td>\n",
       "    </tr>\n",
       "    <tr>\n",
       "      <th>16256</th>\n",
       "      <td>Óscar Morales</td>\n",
       "      <td>27</td>\n",
       "      <td>YouTube Star</td>\n",
       "      <td>26-09</td>\n",
       "      <td>Tehtnica</td>\n",
       "    </tr>\n",
       "    <tr>\n",
       "      <th>13455</th>\n",
       "      <td>Óscar Morales</td>\n",
       "      <td>27</td>\n",
       "      <td>YouTube Star</td>\n",
       "      <td>26-11</td>\n",
       "      <td>Strelec</td>\n",
       "    </tr>\n",
       "    <tr>\n",
       "      <th>1488</th>\n",
       "      <td>Úrsula Corberó</td>\n",
       "      <td>34</td>\n",
       "      <td>TV Actress</td>\n",
       "      <td>11-08</td>\n",
       "      <td>Lev</td>\n",
       "    </tr>\n",
       "  </tbody>\n",
       "</table>\n",
       "<p>16788 rows × 5 columns</p>\n",
       "</div>"
      ],
      "text/plain": [
       "                  Ime Starost              Poklic Rojstni dan  Horoskop\n",
       "3138             $not      26              Rapper       16-12   Strelec\n",
       "7807        03 Greedo      37              Rapper       26-07       Lev\n",
       "8578        070 Shake      27              Rapper       13-06   Dvojčka\n",
       "6267       09sharkboy      24        YouTube Star       24-01    Vodnar\n",
       "727          0zuottag      26      Instagram Star       23-04       Bik\n",
       "...               ...     ...                 ...         ...       ...\n",
       "15320  Ángela Aguilar      20  World Music Singer       08-10  Tehtnica\n",
       "14295      Ñengo Flow      42    Reggaeton Singer       15-10  Tehtnica\n",
       "16256   Óscar Morales      27        YouTube Star       26-09  Tehtnica\n",
       "13455   Óscar Morales      27        YouTube Star       26-11   Strelec\n",
       "1488   Úrsula Corberó      34          TV Actress       11-08       Lev\n",
       "\n",
       "[16788 rows x 5 columns]"
      ]
     },
     "execution_count": 64,
     "metadata": {},
     "output_type": "execute_result"
    }
   ],
   "source": [
    "ljudje_po_abecedi = LJUDJE.sort_values('Ime')\n",
    "ljudje_po_abecedi"
   ]
  },
  {
   "cell_type": "markdown",
   "id": "83f01081",
   "metadata": {},
   "source": [
    "### Rojeni na 29. 2.\n",
    "\n",
    "Poiščemo znane osebe, ki so rojene na 29. 2."
   ]
  },
  {
   "cell_type": "code",
   "execution_count": 65,
   "id": "597e1786",
   "metadata": {},
   "outputs": [
    {
     "data": {
      "text/html": [
       "<div>\n",
       "<style scoped>\n",
       "    .dataframe tbody tr th:only-of-type {\n",
       "        vertical-align: middle;\n",
       "    }\n",
       "\n",
       "    .dataframe tbody tr th {\n",
       "        vertical-align: top;\n",
       "    }\n",
       "\n",
       "    .dataframe thead th {\n",
       "        text-align: right;\n",
       "    }\n",
       "</style>\n",
       "<table border=\"1\" class=\"dataframe\">\n",
       "  <thead>\n",
       "    <tr style=\"text-align: right;\">\n",
       "      <th></th>\n",
       "      <th>Ime</th>\n",
       "      <th>Starost</th>\n",
       "      <th>Poklic</th>\n",
       "      <th>Rojstni dan</th>\n",
       "      <th>Horoskop</th>\n",
       "    </tr>\n",
       "  </thead>\n",
       "  <tbody>\n",
       "    <tr>\n",
       "      <th>5182</th>\n",
       "      <td>Amelia KidsToys&amp;Adventures</td>\n",
       "      <td>16</td>\n",
       "      <td>YouTube Star</td>\n",
       "      <td>29-02</td>\n",
       "      <td>Ribi</td>\n",
       "    </tr>\n",
       "    <tr>\n",
       "      <th>5210</th>\n",
       "      <td>Jana SevenPerfectAngels</td>\n",
       "      <td>20</td>\n",
       "      <td>YouTube Star</td>\n",
       "      <td>29-02</td>\n",
       "      <td>Ribi</td>\n",
       "    </tr>\n",
       "    <tr>\n",
       "      <th>5204</th>\n",
       "      <td>Valentino Bonaccio</td>\n",
       "      <td>20</td>\n",
       "      <td>Instagram Star</td>\n",
       "      <td>29-02</td>\n",
       "      <td>Ribi</td>\n",
       "    </tr>\n",
       "    <tr>\n",
       "      <th>5194</th>\n",
       "      <td>Lydia Jacoby</td>\n",
       "      <td>20</td>\n",
       "      <td>Swimmer</td>\n",
       "      <td>29-02</td>\n",
       "      <td>Ribi</td>\n",
       "    </tr>\n",
       "    <tr>\n",
       "      <th>5185</th>\n",
       "      <td>Max Torina</td>\n",
       "      <td>20</td>\n",
       "      <td>TV Actor</td>\n",
       "      <td>29-02</td>\n",
       "      <td>Ribi</td>\n",
       "    </tr>\n",
       "    <tr>\n",
       "      <th>...</th>\n",
       "      <td>...</td>\n",
       "      <td>...</td>\n",
       "      <td>...</td>\n",
       "      <td>...</td>\n",
       "      <td>...</td>\n",
       "    </tr>\n",
       "    <tr>\n",
       "      <th>5181</th>\n",
       "      <td>Pedro Sánchez</td>\n",
       "      <td>52</td>\n",
       "      <td>Politician</td>\n",
       "      <td>29-02</td>\n",
       "      <td>Ribi</td>\n",
       "    </tr>\n",
       "    <tr>\n",
       "      <th>5199</th>\n",
       "      <td>Joey Greco</td>\n",
       "      <td>52</td>\n",
       "      <td>TV Actor</td>\n",
       "      <td>29-02</td>\n",
       "      <td>Ribi</td>\n",
       "    </tr>\n",
       "    <tr>\n",
       "      <th>5179</th>\n",
       "      <td>Tony Robbins</td>\n",
       "      <td>64</td>\n",
       "      <td>Motivational Speaker</td>\n",
       "      <td>29-02</td>\n",
       "      <td>Ribi</td>\n",
       "    </tr>\n",
       "    <tr>\n",
       "      <th>5193</th>\n",
       "      <td>Khaled</td>\n",
       "      <td>64</td>\n",
       "      <td>Folk Singer</td>\n",
       "      <td>29-02</td>\n",
       "      <td>Ribi</td>\n",
       "    </tr>\n",
       "    <tr>\n",
       "      <th>5189</th>\n",
       "      <td>Monte Kiffin</td>\n",
       "      <td>84</td>\n",
       "      <td>Football Coach</td>\n",
       "      <td>29-02</td>\n",
       "      <td>Ribi</td>\n",
       "    </tr>\n",
       "  </tbody>\n",
       "</table>\n",
       "<p>42 rows × 5 columns</p>\n",
       "</div>"
      ],
      "text/plain": [
       "                             Ime Starost                Poklic Rojstni dan  \\\n",
       "5182  Amelia KidsToys&Adventures      16          YouTube Star       29-02   \n",
       "5210     Jana SevenPerfectAngels      20          YouTube Star       29-02   \n",
       "5204          Valentino Bonaccio      20        Instagram Star       29-02   \n",
       "5194                Lydia Jacoby      20               Swimmer       29-02   \n",
       "5185                  Max Torina      20              TV Actor       29-02   \n",
       "...                          ...     ...                   ...         ...   \n",
       "5181               Pedro Sánchez      52            Politician       29-02   \n",
       "5199                  Joey Greco      52              TV Actor       29-02   \n",
       "5179                Tony Robbins      64  Motivational Speaker       29-02   \n",
       "5193                      Khaled      64           Folk Singer       29-02   \n",
       "5189                Monte Kiffin      84        Football Coach       29-02   \n",
       "\n",
       "     Horoskop  \n",
       "5182     Ribi  \n",
       "5210     Ribi  \n",
       "5204     Ribi  \n",
       "5194     Ribi  \n",
       "5185     Ribi  \n",
       "...       ...  \n",
       "5181     Ribi  \n",
       "5199     Ribi  \n",
       "5179     Ribi  \n",
       "5193     Ribi  \n",
       "5189     Ribi  \n",
       "\n",
       "[42 rows x 5 columns]"
      ]
     },
     "execution_count": 65,
     "metadata": {},
     "output_type": "execute_result"
    }
   ],
   "source": [
    "filter_rojeni_na_prestopno_leto = LJUDJE['Rojstni dan'] == '29-02'\n",
    "rojeni_na_prestopno_leto = LJUDJE[filter_rojeni_na_prestopno_leto]\n",
    "rojeni_na_prestopno_leto.sort_values('Starost')"
   ]
  },
  {
   "cell_type": "markdown",
   "id": "536d00f8",
   "metadata": {},
   "source": [
    "Vidimo, da je 42 oseb rojenih na ta dan.\n",
    "\n",
    "### Ljudje rojeni na nek dan\n",
    "\n",
    "Nato združimo osebe po rojstnih dnevih in jih preštejemo."
   ]
  },
  {
   "cell_type": "code",
   "execution_count": 66,
   "id": "d0c00aa6",
   "metadata": {},
   "outputs": [
    {
     "data": {
      "text/plain": [
       "Rojstni dan\n",
       "01-01    44\n",
       "01-02    43\n",
       "01-03    47\n",
       "01-04    45\n",
       "01-05    47\n",
       "         ..\n",
       "31-05    44\n",
       "31-07    47\n",
       "31-08    48\n",
       "31-10    46\n",
       "31-12    45\n",
       "Length: 366, dtype: int64"
      ]
     },
     "execution_count": 66,
     "metadata": {},
     "output_type": "execute_result"
    }
   ],
   "source": [
    "rojstni_dnevi = LJUDJE[['Ime', 'Rojstni dan']].copy()\n",
    "po_rojstnih_dnevih = rojstni_dnevi.groupby('Rojstni dan').size()\n",
    "po_rojstnih_dnevih\n"
   ]
  },
  {
   "cell_type": "markdown",
   "id": "958deeb8",
   "metadata": {},
   "source": [
    "Zanima nas tudi, na kateri dan je rojenih največ/najmanj znanih osebnosti."
   ]
  },
  {
   "cell_type": "code",
   "execution_count": 67,
   "id": "770b0a23",
   "metadata": {},
   "outputs": [
    {
     "data": {
      "text/plain": [
       "Rojstni dan\n",
       "29-02    42\n",
       "25-12    42\n",
       "06-02    42\n",
       "20-02    42\n",
       "04-07    43\n",
       "         ..\n",
       "02-11    48\n",
       "03-10    48\n",
       "03-11    48\n",
       "03-07    48\n",
       "31-08    48\n",
       "Length: 366, dtype: int64"
      ]
     },
     "execution_count": 67,
     "metadata": {},
     "output_type": "execute_result"
    }
   ],
   "source": [
    "po_rojstnih_dnevih.sort_values()"
   ]
  },
  {
   "cell_type": "markdown",
   "id": "cf74b8ef",
   "metadata": {},
   "source": [
    "Kot pričakovano, jih je najmanj rojenih na 29. 2.\n",
    "Največ jih je rojenih na več datumov.\n",
    "\n",
    "(Podatki sicer niso najbolj točni, saj na spletni strani za določen dan pokaže le neko omejeno število znanih oseb)"
   ]
  },
  {
   "cell_type": "markdown",
   "id": "f5ad1836",
   "metadata": {},
   "source": [
    "Združimo osebe še glede na horoskop."
   ]
  },
  {
   "cell_type": "code",
   "execution_count": 68,
   "id": "479be8f0",
   "metadata": {},
   "outputs": [
    {
     "data": {
      "text/plain": [
       "Horoskop\n",
       "Kozorog      1323\n",
       "Vodnar       1364\n",
       "Tehtnica     1373\n",
       "Strelec      1376\n",
       "Oven         1378\n",
       "Škorpijon    1382\n",
       "Lev          1420\n",
       "Ribi         1423\n",
       "Devica       1424\n",
       "Bik          1426\n",
       "Dvojčka      1426\n",
       "Rak          1473\n",
       "dtype: int64"
      ]
     },
     "execution_count": 68,
     "metadata": {},
     "output_type": "execute_result"
    }
   ],
   "source": [
    "horoskopi = LJUDJE[['Horoskop']].copy()\n",
    "po_horoskopu = horoskopi.groupby('Horoskop').size()\n",
    "po_horoskopu.sort_values()"
   ]
  },
  {
   "cell_type": "markdown",
   "id": "3f7afc40",
   "metadata": {},
   "source": [
    "Vidimo, da je največ znanih oseb po horoskopu rak, najmanj pa kozorog.\n",
    "\n",
    "Zdaj narišimo stolpični diagram za horoskope."
   ]
  },
  {
   "cell_type": "code",
   "execution_count": 69,
   "id": "5b1182b3",
   "metadata": {},
   "outputs": [
    {
     "data": {
      "text/plain": [
       "<Axes: xlabel='Horoskop'>"
      ]
     },
     "execution_count": 69,
     "metadata": {},
     "output_type": "execute_result"
    },
    {
     "data": {
      "image/png": "[encoded data removed]",
      "text/plain": [
       "<Figure size 640x480 with 1 Axes>"
      ]
     },
     "metadata": {},
     "output_type": "display_data"
    }
   ],
   "source": [
    "po_horoskopu.plot.bar()"
   ]
  },
  {
   "cell_type": "markdown",
   "id": "be4e0f3b",
   "metadata": {},
   "source": [
    "Podobno naredimo še za poklice."
   ]
  },
  {
   "cell_type": "code",
   "execution_count": 70,
   "id": "9dde178a",
   "metadata": {},
   "outputs": [
    {
     "data": {
      "text/plain": [
       "Poklic\n",
       "Astrophysicist          1\n",
       "Badminton Player        1\n",
       "Clubhouse Star          1\n",
       "Cellist                 1\n",
       "Conceptual Artist       1\n",
       "                     ... \n",
       "TV Actress            891\n",
       "Pop Singer            936\n",
       "Instagram Star       1172\n",
       "TikTok Star          3217\n",
       "YouTube Star         3534\n",
       "Length: 177, dtype: int64"
      ]
     },
     "execution_count": 70,
     "metadata": {},
     "output_type": "execute_result"
    }
   ],
   "source": [
    "po_poklicih = LJUDJE[['Poklic']].groupby('Poklic').size()\n",
    "po_poklicih.sort_values()\n"
   ]
  },
  {
   "cell_type": "markdown",
   "id": "bc16021f",
   "metadata": {},
   "source": [
    "Največ znanih oseb je YouTube zvezdnikov."
   ]
  },
  {
   "cell_type": "markdown",
   "id": "b350b174",
   "metadata": {},
   "source": [
    "### Starost\n",
    "\n",
    "Poglejmo še, najpogostejšo starost zvezdnikov.\n",
    "\n",
    "Ker so nekatere starosti dane z meseci, najprej definiram funkcijo, ki le te pretvori v leta."
   ]
  },
  {
   "cell_type": "code",
   "execution_count": 76,
   "id": "d28e5507",
   "metadata": {},
   "outputs": [
    {
     "data": {
      "text/plain": [
       "Starost v letih\n",
       "0.17        1\n",
       "0.42        1\n",
       "0.50        1\n",
       "0.58        1\n",
       "105.00      1\n",
       "         ... \n",
       "26.00     796\n",
       "21.00     832\n",
       "23.00     842\n",
       "22.00     846\n",
       "24.00     890\n",
       "Length: 111, dtype: int64"
      ]
     },
     "execution_count": 76,
     "metadata": {},
     "output_type": "execute_result"
    }
   ],
   "source": [
    "def pretvori_v_leta(starost):\n",
    "    if 'months' in starost:\n",
    "        meseci = int(starost.split()[0])\n",
    "        leta = meseci / 12  \n",
    "        return round(leta, 2)  \n",
    "    else:\n",
    "        return float(starost.split()[0]) \n",
    "\n",
    "LJUDJE['Starost v letih'] = LJUDJE['Starost'].apply(pretvori_v_leta)\n",
    "starost = LJUDJE.groupby('Starost v letih').size()\n",
    "starost.sort_values()\n",
    "\n"
   ]
  },
  {
   "cell_type": "markdown",
   "id": "3fa6bff4",
   "metadata": {},
   "source": [
    "Največ znanih je torej starih 24 let."
   ]
  },
  {
   "cell_type": "code",
   "execution_count": 77,
   "id": "246e490e",
   "metadata": {},
   "outputs": [
    {
     "data": {
      "text/plain": [
       "<Axes: xlabel='Starost v letih', ylabel='število ljudi'>"
      ]
     },
     "execution_count": 77,
     "metadata": {},
     "output_type": "execute_result"
    },
    {
     "data": {
      "image/png": "[encoded data removed]",
      "text/plain": [
       "<Figure size 640x480 with 1 Axes>"
      ]
     },
     "metadata": {},
     "output_type": "display_data"
    }
   ],
   "source": [
    "starost.plot(ylabel = 'število ljudi')"
   ]
  },
  {
   "cell_type": "markdown",
   "id": "f7f681dd",
   "metadata": {},
   "source": [
    "Pričakovano se z leti zmanjšuje število znanih oseb."
   ]
  },
  {
   "cell_type": "markdown",
   "id": "1e0661fe",
   "metadata": {},
   "source": [
    "### Meseci\n",
    "\n",
    "Ločimo rojstni dan na dan in mesec. Poglejmo, v katerem mesecu je rojenih največ zvezdnikov."
   ]
  },
  {
   "cell_type": "code",
   "execution_count": null,
   "id": "4483b08d",
   "metadata": {},
   "outputs": [
    {
     "data": {
      "text/plain": [
       "Mesec\n",
       "02    1319\n",
       "04    1378\n",
       "11    1379\n",
       "09    1379\n",
       "06    1387\n",
       "12    1415\n",
       "08    1415\n",
       "01    1416\n",
       "10    1422\n",
       "05    1423\n",
       "07    1427\n",
       "03    1428\n",
       "dtype: int64"
      ]
     },
     "execution_count": 29,
     "metadata": {},
     "output_type": "execute_result"
    }
   ],
   "source": [
    "LJUDJE[['Dan', 'Mesec']] = LJUDJE['Rojstni dan'].str.split('-', expand=True)\n",
    "po_mesecu = LJUDJE.groupby('Mesec').size().sort_values()\n",
    "po_mesecu"
   ]
  },
  {
   "cell_type": "markdown",
   "id": "06bb43f1",
   "metadata": {},
   "source": [
    "Vidimo torej, da je največ rojenih v mesecu marcu, najmanj pa v februarju.\n",
    "\n",
    "Poglejmo si še graf."
   ]
  },
  {
   "cell_type": "code",
   "execution_count": null,
   "id": "e71a69a7",
   "metadata": {},
   "outputs": [
    {
     "data": {
      "text/plain": [
       "<Axes: ylabel='Mesec'>"
      ]
     },
     "execution_count": 33,
     "metadata": {},
     "output_type": "execute_result"
    },
    {
     "data": {
      "image/png": "[encoded data removed]",
      "text/plain": [
       "<Figure size 640x480 with 1 Axes>"
      ]
     },
     "metadata": {},
     "output_type": "display_data"
    }
   ],
   "source": [
    "po_mesecu.plot.barh()"
   ]
  },
  {
   "cell_type": "markdown",
   "id": "5b3cd950",
   "metadata": {},
   "source": [
    "### Dnevi\n",
    "\n",
    "Enako kot za mesece, naredimo še za dneve."
   ]
  },
  {
   "cell_type": "code",
   "execution_count": null,
   "id": "c37a05d5",
   "metadata": {},
   "outputs": [
    {
     "data": {
      "text/plain": [
       "Dan\n",
       "31    324\n",
       "30    509\n",
       "12    541\n",
       "29    542\n",
       "21    543\n",
       "     ... \n",
       "09    556\n",
       "11    556\n",
       "14    557\n",
       "24    558\n",
       "03    563\n",
       "Length: 31, dtype: int64"
      ]
     },
     "execution_count": 35,
     "metadata": {},
     "output_type": "execute_result"
    }
   ],
   "source": [
    "po_dnevih = LJUDJE.groupby('Dan').size().sort_values()\n",
    "po_dnevih"
   ]
  },
  {
   "cell_type": "code",
   "execution_count": null,
   "id": "fd426cd0",
   "metadata": {},
   "outputs": [
    {
     "data": {
      "text/plain": [
       "<Axes: xlabel='Dan'>"
      ]
     },
     "execution_count": 43,
     "metadata": {},
     "output_type": "execute_result"
    },
    {
     "data": {
      "image/png": "[encoded data removed]",
      "text/plain": [
       "<Figure size 640x480 with 1 Axes>"
      ]
     },
     "metadata": {},
     "output_type": "display_data"
    }
   ],
   "source": [
    "po_dnevih.plot.bar()"
   ]
  },
  {
   "cell_type": "markdown",
   "id": "71231f3b",
   "metadata": {},
   "source": [
    "Opazimo, da je najmanj rojenih na 31., kar je pričakovano. Največ ljudi je rojenih na 3."
   ]
  }
 ],
 "metadata": {
  "kernelspec": {
   "display_name": "Python 3",
   "language": "python",
   "name": "python3"
  },
  "language_info": {
   "codemirror_mode": {
    "name": "ipython",
    "version": 3
   },
   "file_extension": ".py",
   "mimetype": "text/x-python",
   "name": "python",
   "nbconvert_exporter": "python",
   "pygments_lexer": "ipython3",
   "version": "3.12.2"
  }
 },
 "nbformat": 4,
 "nbformat_minor": 5
}
